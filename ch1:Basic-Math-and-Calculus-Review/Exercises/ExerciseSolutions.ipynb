{
 "cells": [
  {
   "cell_type": "markdown",
   "id": "83e55c76",
   "metadata": {},
   "source": [
    "### 1. Is the value 62.6738 rational or irrational? Why or why not?"
   ]
  },
  {
   "cell_type": "markdown",
   "id": "dec13f6d",
   "metadata": {},
   "source": [
    "It is rational number, since we can express it as the value of dividing 626738 by 10000:"
   ]
  },
  {
   "cell_type": "code",
   "execution_count": 1,
   "id": "2a97481f",
   "metadata": {},
   "outputs": [
    {
     "data": {
      "text/plain": [
       "62.6738"
      ]
     },
     "execution_count": 1,
     "metadata": {},
     "output_type": "execute_result"
    }
   ],
   "source": [
    "626738 / 1e4"
   ]
  },
  {
   "cell_type": "markdown",
   "id": "04eb4a35",
   "metadata": {},
   "source": [
    "### 2. Evaluate the expression: $10^7 10^{-5}$"
   ]
  },
  {
   "cell_type": "markdown",
   "id": "b4e76751",
   "metadata": {},
   "source": [
    "Well, since we have the same base, we can some the exponents together, so $10^7 10^{-5}$, is $10^{7 + -5}$, which is $10^2$."
   ]
  },
  {
   "cell_type": "markdown",
   "id": "57e27c49",
   "metadata": {},
   "source": [
    "### 3. Evaluate the expression: $81^{1/2}$"
   ]
  },
  {
   "cell_type": "markdown",
   "id": "1284c37a",
   "metadata": {},
   "source": [
    "$81^{1/2}$ the 1/2 exponent is equivalent to the square root, so $81^{1/2}$ is $ \\sqrt{81} $ which is equals to 9."
   ]
  },
  {
   "cell_type": "markdown",
   "id": "6b3d795f",
   "metadata": {},
   "source": [
    "### 4. Evaluate the expression: $25^{3/2}$"
   ]
  },
  {
   "cell_type": "markdown",
   "id": "62d176d2",
   "metadata": {},
   "source": [
    "$25^{3/2}$ the 3/2 exponent is equivalent to the square root of $x^3$, so $25^{3/2}$ is $ \\sqrt{25^3} $ which is equals to 125:"
   ]
  },
  {
   "cell_type": "code",
   "execution_count": 2,
   "id": "a6f58749",
   "metadata": {},
   "outputs": [
    {
     "data": {
      "text/plain": [
       "125.0"
      ]
     },
     "execution_count": 2,
     "metadata": {},
     "output_type": "execute_result"
    }
   ],
   "source": [
    "25 ** (3/2)"
   ]
  },
  {
   "cell_type": "markdown",
   "id": "6cb359c9",
   "metadata": {},
   "source": [
    "### 5. Assuming no payments are made, how much would a $1,000 loan be worth at 5% interest compounded monthly after 3 years?"
   ]
  },
  {
   "cell_type": "markdown",
   "id": "2d6b7b91",
   "metadata": {},
   "source": [
    "we can use the formula below to calculate the compounded interest monthly:<br>\n",
    "$A = P * (1 + r / n)^{tn}$ "
   ]
  },
  {
   "cell_type": "markdown",
   "id": "12368c63",
   "metadata": {},
   "source": [
    "where $P$ is the initial principle, interest rate $r$, time span $t$ (number of years), and periods $n$:"
   ]
  },
  {
   "cell_type": "code",
   "execution_count": 3,
   "id": "0fec3b1e",
   "metadata": {},
   "outputs": [
    {
     "data": {
      "text/latex": [
       "$\\displaystyle 1161.47$"
      ],
      "text/plain": [
       "1161.47"
      ]
     },
     "execution_count": 3,
     "metadata": {},
     "output_type": "execute_result"
    }
   ],
   "source": [
    "import sympy as sp\n",
    "\n",
    "P, r, n, t = sp.symbols(\"P r n t\")\n",
    "A = P * (1 + r / n) ** (t * n)\n",
    "A.subs({P: 1000, r: 0.05, n: 12, t: 3}).round(2)"
   ]
  },
  {
   "cell_type": "markdown",
   "id": "d64aa808",
   "metadata": {},
   "source": [
    "### 6. Assuming no payments are made, how much would a $1,000 loan be worth at 5% interest compounded continuously after 3 years?"
   ]
  },
  {
   "cell_type": "markdown",
   "id": "923d12a7",
   "metadata": {},
   "source": [
    "we can use the formula below to calculate the compounded interest continuously:<br>\n",
    "$A = P * e^{tr}$ "
   ]
  },
  {
   "cell_type": "code",
   "execution_count": 4,
   "id": "f8fabf52",
   "metadata": {},
   "outputs": [
    {
     "data": {
      "text/latex": [
       "$\\displaystyle 1161.83$"
      ],
      "text/plain": [
       "1161.83"
      ]
     },
     "execution_count": 4,
     "metadata": {},
     "output_type": "execute_result"
    }
   ],
   "source": [
    "A = P * sp.exp(r * t)\n",
    "A.subs({P: 1000, r: 0.05, t: 3}).round(2)"
   ]
  },
  {
   "cell_type": "markdown",
   "id": "1bbd9b30",
   "metadata": {},
   "source": [
    "### 7. For the function $f(x) = 3x^2 + 1$ what is the slope at $x = 3$?"
   ]
  },
  {
   "cell_type": "markdown",
   "id": "ffceb939",
   "metadata": {},
   "source": [
    "We can find the derivative of the function $f$, which represents the rate of change of $f$ with respect to $x$ <br>(i.e., the slope of $f$), and then subsitute 3 for $x$ to find the solpe of $f$ at $x = 3$:"
   ]
  },
  {
   "cell_type": "code",
   "execution_count": 5,
   "id": "6243facf",
   "metadata": {},
   "outputs": [
    {
     "data": {
      "text/latex": [
       "$\\displaystyle 3 x^{2} + 1$"
      ],
      "text/plain": [
       "3*x**2 + 1"
      ]
     },
     "execution_count": 5,
     "metadata": {},
     "output_type": "execute_result"
    }
   ],
   "source": [
    "x = sp.symbols('x')\n",
    "f = 3 * x ** 2 + 1\n",
    "f"
   ]
  },
  {
   "cell_type": "code",
   "execution_count": 6,
   "id": "606f6d83",
   "metadata": {},
   "outputs": [
    {
     "data": {
      "text/latex": [
       "$\\displaystyle 6 x$"
      ],
      "text/plain": [
       "6*x"
      ]
     },
     "execution_count": 6,
     "metadata": {},
     "output_type": "execute_result"
    }
   ],
   "source": [
    "df_dx = sp.diff(f)\n",
    "df_dx"
   ]
  },
  {
   "cell_type": "code",
   "execution_count": 7,
   "id": "038a7d00",
   "metadata": {},
   "outputs": [
    {
     "data": {
      "text/latex": [
       "$\\displaystyle 18$"
      ],
      "text/plain": [
       "18"
      ]
     },
     "execution_count": 7,
     "metadata": {},
     "output_type": "execute_result"
    }
   ],
   "source": [
    "df_dx.subs(x, 3)"
   ]
  },
  {
   "cell_type": "markdown",
   "id": "c2f502fb",
   "metadata": {},
   "source": [
    "so, the slope of $f$ at $x = 3$ is $18$."
   ]
  },
  {
   "cell_type": "markdown",
   "id": "b309ac96",
   "metadata": {},
   "source": [
    "### 7. For the function $f(x) = 3x^2 + 1$ what is the area under the curve for $x$ between $0$ and $2$?"
   ]
  },
  {
   "cell_type": "markdown",
   "id": "50fa01e4",
   "metadata": {},
   "source": [
    "To find the area under the curve for $f(x)$, we can integrate $f$ and find $F(2) - F(0)$ which represents the area under the curve of $f$ between $0$ and $2$:"
   ]
  },
  {
   "cell_type": "code",
   "execution_count": 8,
   "id": "fdb4278b",
   "metadata": {},
   "outputs": [
    {
     "data": {
      "text/latex": [
       "$\\displaystyle 3 x^{2} + 1$"
      ],
      "text/plain": [
       "3*x**2 + 1"
      ]
     },
     "execution_count": 8,
     "metadata": {},
     "output_type": "execute_result"
    }
   ],
   "source": [
    "f"
   ]
  },
  {
   "cell_type": "code",
   "execution_count": 9,
   "id": "e2d52ccf",
   "metadata": {},
   "outputs": [
    {
     "data": {
      "text/latex": [
       "$\\displaystyle x^{3} + x$"
      ],
      "text/plain": [
       "x**3 + x"
      ]
     },
     "execution_count": 9,
     "metadata": {},
     "output_type": "execute_result"
    }
   ],
   "source": [
    "F = sp.integrate(f)\n",
    "F"
   ]
  },
  {
   "cell_type": "code",
   "execution_count": 10,
   "id": "ce163bfc",
   "metadata": {},
   "outputs": [
    {
     "data": {
      "text/latex": [
       "$\\displaystyle 10$"
      ],
      "text/plain": [
       "10"
      ]
     },
     "execution_count": 10,
     "metadata": {},
     "output_type": "execute_result"
    }
   ],
   "source": [
    "F.subs(x, 2) - F.subs(x, 0)"
   ]
  },
  {
   "cell_type": "markdown",
   "id": "a2625c9e",
   "metadata": {},
   "source": [
    "so, the area under the curve $f$ between $x = 2$ and $x = 0$ is $10$."
   ]
  }
 ],
 "metadata": {
  "kernelspec": {
   "display_name": "Python 3 (ipykernel)",
   "language": "python",
   "name": "python3"
  },
  "language_info": {
   "codemirror_mode": {
    "name": "ipython",
    "version": 3
   },
   "file_extension": ".py",
   "mimetype": "text/x-python",
   "name": "python",
   "nbconvert_exporter": "python",
   "pygments_lexer": "ipython3",
   "version": "3.11.5"
  }
 },
 "nbformat": 4,
 "nbformat_minor": 5
}
