{
 "cells": [
  {
   "cell_type": "markdown",
   "id": "b53c9c07",
   "metadata": {},
   "source": [
    "### 1. Vector $\\vec{v}$ has a value of $[1, 2]$ but then a transformation happens. $\\hat{i}$ lands at $[2, 0]$ and $\\hat{j}$ lands at $[0, 1.5]$. Where does $\\vec{v}$ land?"
   ]
  },
  {
   "cell_type": "markdown",
   "id": "fee0ee6f",
   "metadata": {},
   "source": [
    "Well, since we have a diagonal matrix transformation, we can observe that the vector $\\vec{v}$ will land at $[2, 3]$.\n",
    "\n",
    "First off all, lets construct the *transformation* and then apply it to the vector $\\vec{v}$ to see where dose it land:"
   ]
  },
  {
   "cell_type": "code",
   "execution_count": 1,
   "id": "eebc4aac",
   "metadata": {},
   "outputs": [
    {
     "data": {
      "text/plain": [
       "array([[2. , 0. ],\n",
       "       [0. , 1.5]])"
      ]
     },
     "execution_count": 1,
     "metadata": {},
     "output_type": "execute_result"
    }
   ],
   "source": [
    "import numpy as np\n",
    "\n",
    "v1 = np.array([1, 2])\n",
    "ihat1 = np.array([2, 0])\n",
    "jhat1 = np.array([0, 1.5])\n",
    "transformation1 = np.array([ihat1, jhat1]).T\n",
    "transformation1"
   ]
  },
  {
   "cell_type": "code",
   "execution_count": 2,
   "id": "7371da3e",
   "metadata": {},
   "outputs": [
    {
     "data": {
      "text/plain": [
       "array([2., 3.])"
      ]
     },
     "execution_count": 2,
     "metadata": {},
     "output_type": "execute_result"
    }
   ],
   "source": [
    "transformation1.dot(v1)"
   ]
  },
  {
   "cell_type": "markdown",
   "id": "0891b8bf",
   "metadata": {},
   "source": [
    "### 2. Vector $\\vec{v}$ has a value of $[1, 2]$ but then a transformation happens. $\\hat{i}$ lands at $[-2, 1]$ and $\\hat{j}$ lands at $[1, -2]$. Where does $\\vec{v}$ land?"
   ]
  },
  {
   "cell_type": "markdown",
   "id": "025af6e9",
   "metadata": {},
   "source": [
    "Let's apply the transformation to vector $\\vec{v}$ directly:"
   ]
  },
  {
   "cell_type": "code",
   "execution_count": 3,
   "id": "ff40ab05",
   "metadata": {},
   "outputs": [
    {
     "data": {
      "text/plain": [
       "array([[-2,  1],\n",
       "       [ 1, -2]])"
      ]
     },
     "execution_count": 3,
     "metadata": {},
     "output_type": "execute_result"
    }
   ],
   "source": [
    "v1 = np.array([1, 2])\n",
    "ihat2 = np.array([-2, 1])\n",
    "jhat2 = np.array([1, -2])\n",
    "transformation2 = np.array([ihat2, jhat2]).T\n",
    "transformation2"
   ]
  },
  {
   "cell_type": "code",
   "execution_count": 4,
   "id": "f2f212c0",
   "metadata": {},
   "outputs": [
    {
     "data": {
      "text/plain": [
       "array([ 0, -3])"
      ]
     },
     "execution_count": 4,
     "metadata": {},
     "output_type": "execute_result"
    }
   ],
   "source": [
    "transformation2.dot(v1)"
   ]
  },
  {
   "cell_type": "markdown",
   "id": "d0d79943",
   "metadata": {},
   "source": [
    "### 3. A transformation $\\hat{i}$ lands at $[1, 0]$ and $\\hat{j}$ lands at $[2, 2]$. What is the determinant of this transformation?"
   ]
  },
  {
   "cell_type": "markdown",
   "id": "fd43d08b",
   "metadata": {},
   "source": [
    "By using `det` numpy linalg function, we can easily calculate the  determinant of this transformation:"
   ]
  },
  {
   "cell_type": "code",
   "execution_count": 5,
   "id": "595f2dd7",
   "metadata": {},
   "outputs": [
    {
     "data": {
      "text/plain": [
       "array([[1, 2],\n",
       "       [0, 2]])"
      ]
     },
     "execution_count": 5,
     "metadata": {},
     "output_type": "execute_result"
    }
   ],
   "source": [
    "ihat3 = np.array([1, 0])\n",
    "jhat3 = np.array([2, 2])\n",
    "transformation3 = np.array([ihat3, jhat3]).T\n",
    "transformation3"
   ]
  },
  {
   "cell_type": "code",
   "execution_count": 6,
   "id": "53e72f6c",
   "metadata": {},
   "outputs": [
    {
     "data": {
      "text/plain": [
       "2.0"
      ]
     },
     "execution_count": 6,
     "metadata": {},
     "output_type": "execute_result"
    }
   ],
   "source": [
    "np.linalg.det(transformation3)"
   ]
  },
  {
   "cell_type": "markdown",
   "id": "11dfa979",
   "metadata": {},
   "source": [
    "### 4. Can two or more linear transformations be done in single linear transformation? Why or why not?"
   ]
  },
  {
   "cell_type": "markdown",
   "id": "170251d6",
   "metadata": {},
   "source": [
    "Off course yes! by using matrix multiplication."
   ]
  },
  {
   "cell_type": "markdown",
   "id": "7a277dab",
   "metadata": {},
   "source": [
    "### 5. Solve the system of equations for $x$, $y$, and $z$:\n",
    "$3x + 1y + 0z = 54$<br>\n",
    "$2x + 4y + 1z = 12$<br>\n",
    "$3x + 1y + 8z = 6$<br>"
   ]
  },
  {
   "cell_type": "markdown",
   "id": "4952edee",
   "metadata": {},
   "source": [
    "to solve the system of equations for $x$, $y$, and $z$, lets extract the\n",
    "coefficients into matrix $A$, the results of each equation into matrix $B$, and variables into matrix $X$:\n",
    "\n",
    "$A = \\begin{pmatrix} 3 & 1 & 0 \\\\ 2 & 4 & 1 \\\\ 3 & 1 & 8 \\end{pmatrix}$\n",
    "\n",
    "$B = \\begin{pmatrix} 54 \\\\ 12 \\\\ 6 \\end{pmatrix}$\n",
    "\n",
    "$X = \\begin{pmatrix} x \\\\ y \\\\ z \\end{pmatrix}$\n",
    "\n",
    "And then solving the following equation for $X$:<br>\n",
    "$AX = B$<br>\n",
    "$X = BA^{-1}$"
   ]
  },
  {
   "cell_type": "code",
   "execution_count": 7,
   "id": "cb93ddcc",
   "metadata": {},
   "outputs": [
    {
     "data": {
      "text/plain": [
       "array([[3, 1, 0],\n",
       "       [2, 4, 1],\n",
       "       [3, 1, 8]])"
      ]
     },
     "execution_count": 7,
     "metadata": {},
     "output_type": "execute_result"
    }
   ],
   "source": [
    "A = np.array([[3, 1, 0], [2, 4, 1], [3, 1, 8]])\n",
    "A"
   ]
  },
  {
   "cell_type": "code",
   "execution_count": 8,
   "id": "10b15bb2",
   "metadata": {},
   "outputs": [
    {
     "data": {
      "text/plain": [
       "array([54, 12,  6])"
      ]
     },
     "execution_count": 8,
     "metadata": {},
     "output_type": "execute_result"
    }
   ],
   "source": [
    "B = np.array([54, 12, 6])\n",
    "B"
   ]
  },
  {
   "cell_type": "code",
   "execution_count": 9,
   "id": "1d2ba4d4",
   "metadata": {},
   "outputs": [
    {
     "data": {
      "text/plain": [
       "array([19.8, -5.4, -6. ])"
      ]
     },
     "execution_count": 9,
     "metadata": {},
     "output_type": "execute_result"
    }
   ],
   "source": [
    "X = np.linalg.inv(A) @ B\n",
    "X"
   ]
  },
  {
   "cell_type": "markdown",
   "id": "813eb459",
   "metadata": {},
   "source": [
    "### 6. Is the following matrix linearly dependent? Why or why not?\n",
    "$\\begin{pmatrix}2 & 1 \\\\ 6 & 3 \\end{pmatrix}$"
   ]
  },
  {
   "cell_type": "markdown",
   "id": "7453d033",
   "metadata": {},
   "source": [
    "let's check out it's determinant, if it is 0, then it is linearly dependent, other wise it not:"
   ]
  },
  {
   "cell_type": "code",
   "execution_count": 10,
   "id": "33fa32d9",
   "metadata": {},
   "outputs": [
    {
     "data": {
      "text/plain": [
       "array([[2, 1],\n",
       "       [6, 3]])"
      ]
     },
     "execution_count": 10,
     "metadata": {},
     "output_type": "execute_result"
    }
   ],
   "source": [
    "ihat6 = np.array([2, 6])\n",
    "jhat6 = np.array([1, 3])\n",
    "M = np.array([ihat6, jhat6]).T\n",
    "M"
   ]
  },
  {
   "cell_type": "code",
   "execution_count": 11,
   "id": "1c89aaed",
   "metadata": {},
   "outputs": [
    {
     "data": {
      "text/plain": [
       "-3.330669073875464e-16"
      ]
     },
     "execution_count": 11,
     "metadata": {},
     "output_type": "execute_result"
    }
   ],
   "source": [
    "np.linalg.det(M)"
   ]
  },
  {
   "cell_type": "markdown",
   "id": "dbbf1548",
   "metadata": {},
   "source": [
    "so, it is  linearly independent."
   ]
  }
 ],
 "metadata": {
  "kernelspec": {
   "display_name": "Python 3 (ipykernel)",
   "language": "python",
   "name": "python3"
  },
  "language_info": {
   "codemirror_mode": {
    "name": "ipython",
    "version": 3
   },
   "file_extension": ".py",
   "mimetype": "text/x-python",
   "name": "python",
   "nbconvert_exporter": "python",
   "pygments_lexer": "ipython3",
   "version": "3.11.5"
  }
 },
 "nbformat": 4,
 "nbformat_minor": 5
}
